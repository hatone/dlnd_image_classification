{
 "cells": [
  {
   "cell_type": "markdown",
   "metadata": {
    "collapsed": true,
    "deletable": true,
    "editable": true
   },
   "source": [
    "# Image Classification\n",
    "In this project, you'll classify images from the [CIFAR-10 dataset](https://www.cs.toronto.edu/~kriz/cifar.html).  The dataset consists of airplanes, dogs, cats, and other objects. You'll preprocess the images, then train a convolutional neural network on all the samples. The images need to be normalized and the labels need to be one-hot encoded.  You'll get to apply what you learned and build a convolutional, max pooling, dropout, and fully connected layers.  At the end, you'll get to see your neural network's predictions on the sample images.\n",
    "## Get the Data\n",
    "Run the following cell to download the [CIFAR-10 dataset for python](https://www.cs.toronto.edu/~kriz/cifar-10-python.tar.gz)."
   ]
  },
  {
   "cell_type": "code",
   "execution_count": 39,
   "metadata": {
    "collapsed": false,
    "deletable": true,
    "editable": true
   },
   "outputs": [
    {
     "name": "stderr",
     "output_type": "stream",
     "text": [
      "CIFAR-10 Dataset: 171MB [01:21, 2.10MB/s]                              "
     ]
    },
    {
     "name": "stdout",
     "output_type": "stream",
     "text": [
      "All files found!\n"
     ]
    },
    {
     "name": "stderr",
     "output_type": "stream",
     "text": [
      "\n"
     ]
    }
   ],
   "source": [
    "\"\"\"\n",
    "DON'T MODIFY ANYTHING IN THIS CELL THAT IS BELOW THIS LINE\n",
    "\"\"\"\n",
    "from urllib.request import urlretrieve\n",
    "from os.path import isfile, isdir\n",
    "from tqdm import tqdm\n",
    "import problem_unittests as tests\n",
    "import tarfile\n",
    "\n",
    "cifar10_dataset_folder_path = 'cifar-10-batches-py'\n",
    "\n",
    "class DLProgress(tqdm):\n",
    "    last_block = 0\n",
    "\n",
    "    def hook(self, block_num=1, block_size=1, total_size=None):\n",
    "        self.total = total_size\n",
    "        self.update((block_num - self.last_block) * block_size)\n",
    "        self.last_block = block_num\n",
    "\n",
    "if not isfile('cifar-10-python.tar.gz'):\n",
    "    with DLProgress(unit='B', unit_scale=True, miniters=1, desc='CIFAR-10 Dataset') as pbar:\n",
    "        urlretrieve(\n",
    "            'https://www.cs.toronto.edu/~kriz/cifar-10-python.tar.gz',\n",
    "            'cifar-10-python.tar.gz',\n",
    "            pbar.hook)\n",
    "\n",
    "if not isdir(cifar10_dataset_folder_path):\n",
    "    with tarfile.open('cifar-10-python.tar.gz') as tar:\n",
    "        tar.extractall()\n",
    "        tar.close()\n",
    "\n",
    "\n",
    "tests.test_folder_path(cifar10_dataset_folder_path)"
   ]
  },
  {
   "cell_type": "markdown",
   "metadata": {
    "deletable": true,
    "editable": true
   },
   "source": [
    "## Explore the Data\n",
    "The dataset is broken into batches to prevent your machine from running out of memory.  The CIFAR-10 dataset consists of 5 batches, named `data_batch_1`, `data_batch_2`, etc.. Each batch contains the labels and images that are one of the following:\n",
    "* airplane\n",
    "* automobile\n",
    "* bird\n",
    "* cat\n",
    "* deer\n",
    "* dog\n",
    "* frog\n",
    "* horse\n",
    "* ship\n",
    "* truck\n",
    "\n",
    "Understanding a dataset is part of making predictions on the data.  Play around with the code cell below by changing the `batch_id` and `sample_id`. The `batch_id` is the id for a batch (1-5). The `sample_id` is the id for a image and label pair in the batch.\n",
    "\n",
    "Ask yourself \"What are all possible labels?\", \"What is the range of values for the image data?\", \"Are the labels in order or random?\".  Answers to questions like these will help you preprocess the data and end up with better predictions."
   ]
  },
  {
   "cell_type": "code",
   "execution_count": 40,
   "metadata": {
    "collapsed": false,
    "deletable": true,
    "editable": true
   },
   "outputs": [
    {
     "name": "stdout",
     "output_type": "stream",
     "text": [
      "\n",
      "Stats of batch 1:\n",
      "Samples: 10000\n",
      "Label Counts: {0: 1005, 1: 974, 2: 1032, 3: 1016, 4: 999, 5: 937, 6: 1030, 7: 1001, 8: 1025, 9: 981}\n",
      "First 20 Labels: [6, 9, 9, 4, 1, 1, 2, 7, 8, 3, 4, 7, 7, 2, 9, 9, 9, 3, 2, 6]\n",
      "\n",
      "Example of Image 5:\n",
      "Image - Min Value: 0 Max Value: 252\n",
      "Image - Shape: (32, 32, 3)\n",
      "Label - Label Id: 1 Name: automobile\n"
     ]
    },
    {
     "data": {
      "image/png": "[encoded data removed]",
      "text/plain": [
       "<matplotlib.figure.Figure at 0x7fe98c7ae080>"
      ]
     },
     "metadata": {
      "image/png": {
       "height": 250,
       "width": 253
      }
     },
     "output_type": "display_data"
    }
   ],
   "source": [
    "%matplotlib inline\n",
    "%config InlineBackend.figure_format = 'retina'\n",
    "\n",
    "import helper\n",
    "import numpy as np\n",
    "\n",
    "# Explore the dataset\n",
    "batch_id = 1\n",
    "sample_id = 5\n",
    "helper.display_stats(cifar10_dataset_folder_path, batch_id, sample_id)"
   ]
  },
  {
   "cell_type": "markdown",
   "metadata": {
    "deletable": true,
    "editable": true
   },
   "source": [
    "## Implement Preprocess Functions\n",
    "### Normalize\n",
    "In the cell below, implement the `normalize` function to take in image data, `x`, and return it as a normalized Numpy array. The values should be in the range of 0 to 1, inclusive.  The return object should be the same shape as `x`."
   ]
  },
  {
   "cell_type": "code",
   "execution_count": 41,
   "metadata": {
    "collapsed": false,
    "deletable": true,
    "editable": true
   },
   "outputs": [
    {
     "name": "stdout",
     "output_type": "stream",
     "text": [
      "Tests Passed\n"
     ]
    }
   ],
   "source": [
    "def normalize(x):\n",
    "    \"\"\"\n",
    "    Normalize a list of sample image data in the range of 0 to 1\n",
    "    : x: List of image data.  The image shape is (32, 32, 3)\n",
    "    : return: Numpy array of normalize data\n",
    "    \"\"\"\n",
    "    # TODO: Implement Function \n",
    "    return np.array((x)/(255))\n",
    "\n",
    "\n",
    "\"\"\"\n",
    "DON'T MODIFY ANYTHING IN THIS CELL THAT IS BELOW THIS LINE\n",
    "\"\"\"\n",
    "tests.test_normalize(normalize)"
   ]
  },
  {
   "cell_type": "markdown",
   "metadata": {
    "deletable": true,
    "editable": true
   },
   "source": [
    "### One-hot encode\n",
    "Just like the previous code cell, you'll be implementing a function for preprocessing.  This time, you'll implement the `one_hot_encode` function. The input, `x`, are a list of labels.  Implement the function to return the list of labels as One-Hot encoded Numpy array.  The possible values for labels are 0 to 9. The one-hot encoding function should return the same encoding for each value between each call to `one_hot_encode`.  Make sure to save the map of encodings outside the function.\n",
    "\n",
    "Hint: Don't reinvent the wheel."
   ]
  },
  {
   "cell_type": "code",
   "execution_count": 42,
   "metadata": {
    "collapsed": false,
    "deletable": true,
    "editable": true
   },
   "outputs": [
    {
     "name": "stdout",
     "output_type": "stream",
     "text": [
      "Tests Passed\n"
     ]
    }
   ],
   "source": [
    "def one_hot_encode(x):\n",
    "    \"\"\"\n",
    "    One hot encode a list of sample labels. Return a one-hot encoded vector for each label.\n",
    "    : x: List of sample Labels\n",
    "    : return: Numpy array of one-hot encoded labels\n",
    "    \"\"\"\n",
    "    # TODO: Implement Function\n",
    "    return np.eye(10)[x]\n",
    "\n",
    "\n",
    "\"\"\"\n",
    "DON'T MODIFY ANYTHING IN THIS CELL THAT IS BELOW THIS LINE\n",
    "\"\"\"\n",
    "tests.test_one_hot_encode(one_hot_encode)"
   ]
  },
  {
   "cell_type": "markdown",
   "metadata": {
    "deletable": true,
    "editable": true
   },
   "source": [
    "### Randomize Data\n",
    "As you saw from exploring the data above, the order of the samples are randomized.  It doesn't hurt to randomize it again, but you don't need to for this dataset."
   ]
  },
  {
   "cell_type": "markdown",
   "metadata": {
    "deletable": true,
    "editable": true
   },
   "source": [
    "## Preprocess all the data and save it\n",
    "Running the code cell below will preprocess all the CIFAR-10 data and save it to file. The code below also uses 10% of the training data for validation."
   ]
  },
  {
   "cell_type": "code",
   "execution_count": 45,
   "metadata": {
    "collapsed": false,
    "deletable": true,
    "editable": true
   },
   "outputs": [],
   "source": [
    "\"\"\"\n",
    "DON'T MODIFY ANYTHING IN THIS CELL\n",
    "\"\"\"\n",
    "# Preprocess Training, Validation, and Testing Data\n",
    "helper.preprocess_and_save_data(cifar10_dataset_folder_path, normalize, one_hot_encode)"
   ]
  },
  {
   "cell_type": "markdown",
   "metadata": {
    "deletable": true,
    "editable": true
   },
   "source": [
    "# Check Point\n",
    "This is your first checkpoint.  If you ever decide to come back to this notebook or have to restart the notebook, you can start from here.  The preprocessed data has been saved to disk."
   ]
  },
  {
   "cell_type": "code",
   "execution_count": 2,
   "metadata": {
    "collapsed": true,
    "deletable": true,
    "editable": true
   },
   "outputs": [],
   "source": [
    "\"\"\"\n",
    "DON'T MODIFY ANYTHING IN THIS CELL\n",
    "\"\"\"\n",
    "import pickle\n",
    "import problem_unittests as tests\n",
    "import helper\n",
    "\n",
    "# Load the Preprocessed Validation data\n",
    "valid_features, valid_labels = pickle.load(open('preprocess_validation.p', mode='rb'))"
   ]
  },
  {
   "cell_type": "markdown",
   "metadata": {
    "deletable": true,
    "editable": true
   },
   "source": [
    "## Build the network\n",
    "For the neural network, you'll build each layer into a function.  Most of the code you've seen has been outside of functions. To test your code more thoroughly, we require that you put each layer in a function.  This allows us to give you better feedback and test for simple mistakes using our unittests before you submit your project.\n",
    "\n",
    ">**Note:** If you're finding it hard to dedicate enough time for this course each week, we've provided a small shortcut to this part of the project. In the next couple of problems, you'll have the option to use classes from the [TensorFlow Layers](https://www.tensorflow.org/api_docs/python/tf/layers) or [TensorFlow Layers (contrib)](https://www.tensorflow.org/api_guides/python/contrib.layers) packages to build each layer, except the layers you build in the \"Convolutional and Max Pooling Layer\" section.  TF Layers is similar to Keras's and TFLearn's abstraction to layers, so it's easy to pickup.\n",
    "\n",
    ">However, if you would like to get the most out of this course, try to solve all the problems _without_ using anything from the TF Layers packages. You **can** still use classes from other packages that happen to have the same name as ones you find in TF Layers! For example, instead of using the TF Layers version of the `conv2d` class, [tf.layers.conv2d](https://www.tensorflow.org/api_docs/python/tf/layers/conv2d), you would want to use the TF Neural Network version of `conv2d`, [tf.nn.conv2d](https://www.tensorflow.org/api_docs/python/tf/nn/conv2d). \n",
    "\n",
    "Let's begin!\n",
    "\n",
    "### Input\n",
    "The neural network needs to read the image data, one-hot encoded labels, and dropout keep probability. Implement the following functions\n",
    "* Implement `neural_net_image_input`\n",
    " * Return a [TF Placeholder](https://www.tensorflow.org/api_docs/python/tf/placeholder)\n",
    " * Set the shape using `image_shape` with batch size set to `None`.\n",
    " * Name the TensorFlow placeholder \"x\" using the TensorFlow `name` parameter in the [TF Placeholder](https://www.tensorflow.org/api_docs/python/tf/placeholder).\n",
    "* Implement `neural_net_label_input`\n",
    " * Return a [TF Placeholder](https://www.tensorflow.org/api_docs/python/tf/placeholder)\n",
    " * Set the shape using `n_classes` with batch size set to `None`.\n",
    " * Name the TensorFlow placeholder \"y\" using the TensorFlow `name` parameter in the [TF Placeholder](https://www.tensorflow.org/api_docs/python/tf/placeholder).\n",
    "* Implement `neural_net_keep_prob_input`\n",
    " * Return a [TF Placeholder](https://www.tensorflow.org/api_docs/python/tf/placeholder) for dropout keep probability.\n",
    " * Name the TensorFlow placeholder \"keep_prob\" using the TensorFlow `name` parameter in the [TF Placeholder](https://www.tensorflow.org/api_docs/python/tf/placeholder).\n",
    "\n",
    "These names will be used at the end of the project to load your saved model.\n",
    "\n",
    "Note: `None` for shapes in TensorFlow allow for a dynamic size."
   ]
  },
  {
   "cell_type": "code",
   "execution_count": 3,
   "metadata": {
    "collapsed": false,
    "deletable": true,
    "editable": true
   },
   "outputs": [
    {
     "name": "stdout",
     "output_type": "stream",
     "text": [
      "Image Input Tests Passed.\n",
      "Label Input Tests Passed.\n",
      "Keep Prob Tests Passed.\n"
     ]
    }
   ],
   "source": [
    "import tensorflow as tf\n",
    "\n",
    "def neural_net_image_input(image_shape):\n",
    "    \"\"\"\n",
    "    Return a Tensor for a bach of image input\n",
    "    : image_shape: Shape of the images\n",
    "    : return: Tensor for image input.\n",
    "    \"\"\"\n",
    "    # TODO: Implement Function\n",
    "    return tf.placeholder(dtype=tf.float32, shape=[None,image_shape[0],image_shape[1],image_shape[2]], name=\"x\")\n",
    "\n",
    "\n",
    "def neural_net_label_input(n_classes):\n",
    "    \"\"\"\n",
    "    Return a Tensor for a batch of label input\n",
    "    : n_classes: Number of classes\n",
    "    : return: Tensor for label input.\n",
    "    \"\"\"\n",
    "    # TODO: Implement Function\n",
    "    return tf.placeholder(dtype=tf.float32, shape=[None, n_classes], name=\"y\")\n",
    "\n",
    "\n",
    "def neural_net_keep_prob_input():\n",
    "    \"\"\"\n",
    "    Return a Tensor for keep probability\n",
    "    : return: Tensor for keep probability.\n",
    "    \"\"\"\n",
    "    # TODO: Implement Function\n",
    "    return tf.placeholder(dtype=tf.float32, name=\"keep_prob\")\n",
    "\n",
    "\n",
    "\"\"\"\n",
    "DON'T MODIFY ANYTHING IN THIS CELL THAT IS BELOW THIS LINE\n",
    "\"\"\"\n",
    "tf.reset_default_graph()\n",
    "tests.test_nn_image_inputs(neural_net_image_input)\n",
    "tests.test_nn_label_inputs(neural_net_label_input)\n",
    "tests.test_nn_keep_prob_inputs(neural_net_keep_prob_input)"
   ]
  },
  {
   "cell_type": "markdown",
   "metadata": {
    "deletable": true,
    "editable": true
   },
   "source": [
    "### Convolution and Max Pooling Layer\n",
    "Convolution layers have a lot of success with images. For this code cell, you should implement the function `conv2d_maxpool` to apply convolution then max pooling:\n",
    "* Create the weight and bias using `conv_ksize`, `conv_num_outputs` and the shape of `x_tensor`.\n",
    "* Apply a convolution to `x_tensor` using weight and `conv_strides`.\n",
    " * We recommend you use same padding, but you're welcome to use any padding.\n",
    "* Add bias\n",
    "* Add a nonlinear activation to the convolution.\n",
    "* Apply Max Pooling using `pool_ksize` and `pool_strides`.\n",
    " * We recommend you use same padding, but you're welcome to use any padding.\n",
    "\n",
    "**Note:** You **can't** use [TensorFlow Layers](https://www.tensorflow.org/api_docs/python/tf/layers) or [TensorFlow Layers (contrib)](https://www.tensorflow.org/api_guides/python/contrib.layers) for **this** layer, but you can still use TensorFlow's [Neural Network](https://www.tensorflow.org/api_docs/python/tf/nn) package. You may still use the shortcut option for all the **other** layers."
   ]
  },
  {
   "cell_type": "code",
   "execution_count": 4,
   "metadata": {
    "collapsed": false,
    "deletable": true,
    "editable": true
   },
   "outputs": [
    {
     "name": "stdout",
     "output_type": "stream",
     "text": [
      "Tests Passed\n"
     ]
    }
   ],
   "source": [
    "def conv2d_maxpool(x_tensor, conv_num_outputs, conv_ksize, conv_strides, pool_ksize, pool_strides):\n",
    "    \"\"\"\n",
    "    Apply convolution then max pooling to x_tensor\n",
    "    :param x_tensor: TensorFlow Tensor\n",
    "    :param conv_num_outputs: Number of outputs for the convolutional layer\n",
    "    :param conv_ksize: kernal size 2-D Tuple for the convolutional layer\n",
    "    :param conv_strides: Stride 2-D Tuple for convolution\n",
    "    :param pool_ksize: kernal size 2-D Tuple for pool\n",
    "    :param pool_strides: Stride 2-D Tuple for pool\n",
    "    : return: A tensor that represents convolution and max pooling of x_tensor\n",
    "    \"\"\"\n",
    "    # TODO: Implement Function\n",
    "    x_shape = x_tensor.get_shape().as_list() \n",
    "        \n",
    "    F_W = tf.Variable(tf.random_normal([conv_ksize[0],conv_ksize[1], x_shape[3] , conv_num_outputs], mean=0.0, stddev=0.05))\n",
    "    F_b = tf.Variable(tf.zeros(conv_num_outputs))\n",
    "\n",
    "    conv_layer = tf.nn.conv2d(x_tensor, F_W, [1,conv_strides[0],conv_strides[1],1], 'SAME')\n",
    "    conv_layer = tf.nn.bias_add(conv_layer, F_b)\n",
    "    conv_layer = tf.nn.relu(conv_layer)\n",
    "    \n",
    "    return tf.nn.max_pool(conv_layer, ksize=[1, pool_ksize[0], pool_ksize[1], 1], \\\n",
    "                          strides=[1, pool_strides[0], pool_strides[1], 1],\\\n",
    "                          padding='SAME')\n",
    "\n",
    "\n",
    "\"\"\"\n",
    "DON'T MODIFY ANYTHING IN THIS CELL THAT IS BELOW THIS LINE\n",
    "\"\"\"\n",
    "tests.test_con_pool(conv2d_maxpool)"
   ]
  },
  {
   "cell_type": "markdown",
   "metadata": {
    "deletable": true,
    "editable": true
   },
   "source": [
    "### Flatten Layer\n",
    "Implement the `flatten` function to change the dimension of `x_tensor` from a 4-D tensor to a 2-D tensor.  The output should be the shape (*Batch Size*, *Flattened Image Size*). Shortcut option: you can use classes from the [TensorFlow Layers](https://www.tensorflow.org/api_docs/python/tf/layers) or [TensorFlow Layers (contrib)](https://www.tensorflow.org/api_guides/python/contrib.layers) packages for this layer. For more of a challenge, only use other TensorFlow packages."
   ]
  },
  {
   "cell_type": "code",
   "execution_count": 5,
   "metadata": {
    "collapsed": false,
    "deletable": true,
    "editable": true
   },
   "outputs": [
    {
     "name": "stdout",
     "output_type": "stream",
     "text": [
      "Tests Passed\n"
     ]
    }
   ],
   "source": [
    "def flatten(x_tensor):\n",
    "    \"\"\"\n",
    "    Flatten x_tensor to (Batch Size, Flattened Image Size)\n",
    "    : x_tensor: A tensor of size (Batch Size, ...), where ... are the image dimensions.\n",
    "    : return: A tensor of size (Batch Size, Flattened Image Size).\n",
    "    \"\"\"\n",
    "    # TODO: Implement Function\n",
    "    x_shape = x_tensor.get_shape().as_list() \n",
    "    x_size = x_shape[1] * x_shape[2] * x_shape[3] \n",
    "    return tf.reshape(x_tensor, [-1, x_size])\n",
    "\n",
    "\n",
    "\"\"\"\n",
    "DON'T MODIFY ANYTHING IN THIS CELL THAT IS BELOW THIS LINE\n",
    "\"\"\"\n",
    "tests.test_flatten(flatten)"
   ]
  },
  {
   "cell_type": "markdown",
   "metadata": {
    "deletable": true,
    "editable": true
   },
   "source": [
    "### Fully-Connected Layer\n",
    "Implement the `fully_conn` function to apply a fully connected layer to `x_tensor` with the shape (*Batch Size*, *num_outputs*). Shortcut option: you can use classes from the [TensorFlow Layers](https://www.tensorflow.org/api_docs/python/tf/layers) or [TensorFlow Layers (contrib)](https://www.tensorflow.org/api_guides/python/contrib.layers) packages for this layer. For more of a challenge, only use other TensorFlow packages."
   ]
  },
  {
   "cell_type": "code",
   "execution_count": 6,
   "metadata": {
    "collapsed": false,
    "deletable": true,
    "editable": true
   },
   "outputs": [
    {
     "name": "stdout",
     "output_type": "stream",
     "text": [
      "Tests Passed\n"
     ]
    }
   ],
   "source": [
    "def fully_conn(x_tensor, num_outputs):\n",
    "    \"\"\"\n",
    "    Apply a fully connected layer to x_tensor using weight and bias\n",
    "    : x_tensor: A 2-D tensor where the first dimension is batch size.\n",
    "    : num_outputs: The number of output that the new tensor should be.\n",
    "    : return: A 2-D tensor where the second dimension is num_outputs.\n",
    "    \"\"\"\n",
    "    # TODO: Implement Function\n",
    "    dimension = x_tensor.get_shape().as_list()[1]\n",
    "    F_w = tf.Variable(tf.random_normal([dimension, num_outputs], mean=0.0, stddev=0.05))\n",
    "    F_b = tf.Variable(tf.zeros(num_outputs))\n",
    "    v_res = tf.add(tf.matmul(x_tensor, F_w), F_b)\n",
    "    return tf.nn.relu(v_res)\n",
    "\n",
    "\n",
    "\"\"\"\n",
    "DON'T MODIFY ANYTHING IN THIS CELL THAT IS BELOW THIS LINE\n",
    "\"\"\"\n",
    "tests.test_fully_conn(fully_conn)"
   ]
  },
  {
   "cell_type": "markdown",
   "metadata": {
    "deletable": true,
    "editable": true
   },
   "source": [
    "### Output Layer\n",
    "Implement the `output` function to apply a fully connected layer to `x_tensor` with the shape (*Batch Size*, *num_outputs*). Shortcut option: you can use classes from the [TensorFlow Layers](https://www.tensorflow.org/api_docs/python/tf/layers) or [TensorFlow Layers (contrib)](https://www.tensorflow.org/api_guides/python/contrib.layers) packages for this layer. For more of a challenge, only use other TensorFlow packages.\n",
    "\n",
    "**Note:** Activation, softmax, or cross entropy should **not** be applied to this."
   ]
  },
  {
   "cell_type": "code",
   "execution_count": 7,
   "metadata": {
    "collapsed": false,
    "deletable": true,
    "editable": true
   },
   "outputs": [
    {
     "name": "stdout",
     "output_type": "stream",
     "text": [
      "Tests Passed\n"
     ]
    }
   ],
   "source": [
    "def output(x_tensor, num_outputs):\n",
    "    \"\"\"\n",
    "    Apply a output layer to x_tensor using weight and bias\n",
    "    : x_tensor: A 2-D tensor where the first dimension is batch size.\n",
    "    : num_outputs: The number of output that the new tensor should be.\n",
    "    : return: A 2-D tensor where the second dimension is num_outputs.\n",
    "    \"\"\"\n",
    "    # TODO: Implement Function\n",
    "    O_w = tf.Variable(tf.random_normal([x_tensor.get_shape().as_list()[1], num_outputs], mean=0.0, stddev=0.05))\n",
    "    O_b = tf.Variable(tf.random_normal([num_outputs]))\n",
    "    return tf.add(tf.matmul(x_tensor, O_w),O_b)\n",
    "\n",
    "\n",
    "\"\"\"\n",
    "DON'T MODIFY ANYTHING IN THIS CELL THAT IS BELOW THIS LINE\n",
    "\"\"\"\n",
    "tests.test_output(output)"
   ]
  },
  {
   "cell_type": "markdown",
   "metadata": {
    "deletable": true,
    "editable": true
   },
   "source": [
    "### Create Convolutional Model\n",
    "Implement the function `conv_net` to create a convolutional neural network model. The function takes in a batch of images, `x`, and outputs logits.  Use the layers you created above to create this model:\n",
    "\n",
    "* Apply 1, 2, or 3 Convolution and Max Pool layers\n",
    "* Apply a Flatten Layer\n",
    "* Apply 1, 2, or 3 Fully Connected Layers\n",
    "* Apply an Output Layer\n",
    "* Return the output\n",
    "* Apply [TensorFlow's Dropout](https://www.tensorflow.org/api_docs/python/tf/nn/dropout) to one or more layers in the model using `keep_prob`. "
   ]
  },
  {
   "cell_type": "code",
   "execution_count": 38,
   "metadata": {
    "collapsed": false,
    "deletable": true,
    "editable": true
   },
   "outputs": [
    {
     "name": "stdout",
     "output_type": "stream",
     "text": [
      "Neural Network Built!\n"
     ]
    }
   ],
   "source": [
    "def conv_net(x, keep_prob):\n",
    "    \"\"\"\n",
    "    Create a convolutional neural network model\n",
    "    : x: Placeholder tensor that holds image data.\n",
    "    : keep_prob: Placeholder tensor that hold dropout keep probability.\n",
    "    : return: Tensor that represents logits\n",
    "    \"\"\"\n",
    "    # TODO: Apply 1, 2, or 3 Convolution and Max Pool layers\n",
    "    #    Play around with different number of outputs, kernel size and stride\n",
    "    # Function Definition from Above:\n",
    "    #    conv2d_maxpool(x_tensor, conv_num_outputs, conv_ksize, conv_strides, pool_ksize, pool_strides)\n",
    "    \n",
    "    conv_num_outputs_layer1 = 256\n",
    "    conv_ksize_layer1 = (16, 16)\n",
    "    conv_strides_layer1 = (2, 2)\n",
    "    pool_ksize_layer1 = (4, 4)\n",
    "    pool_strides_layer1 = (2, 2)\n",
    "    conv_net = conv2d_maxpool(x, conv_num_outputs_layer1, conv_ksize_layer1, conv_strides_layer1, pool_ksize_layer1, pool_strides_layer1)\n",
    "    \n",
    "    conv_num_outputs_layer2 = 128\n",
    "    conv_ksize_layer2 = (8, 8)\n",
    "    conv_strides_layer2 = (2, 2)\n",
    "    pool_ksize_layer2 = (2, 2)\n",
    "    pool_strides_layer2 = (2, 2)\n",
    "    conv_net = conv2d_maxpool(conv_net, conv_num_outputs_layer2, conv_ksize_layer2, pool_strides_layer2,pool_ksize_layer2, pool_strides_layer2)\n",
    "    \n",
    "    conv_num_outputs_layer3 = 64\n",
    "    conv_ksize_layer3 = (2, 2)\n",
    "    conv_strides_layer3 = (1, 1)\n",
    "    pool_ksize_layer3 = (1, 1)\n",
    "    pool_strides_layer3 = (1, 1)\n",
    "    conv_net = conv2d_maxpool(conv_net, conv_num_outputs_layer3, conv_ksize_layer3, conv_strides_layer3, pool_ksize_layer3, pool_strides_layer3)\n",
    "    \n",
    "    # TODO: Apply a Flatten Layer\n",
    "    # Function Definition from Above:\n",
    "    #   flatten(x_tensor)\n",
    "    conv_net = flatten(conv_net)\n",
    "    \n",
    "\n",
    "    # TODO: Apply 1, 2, or 3 Fully Connected Layers\n",
    "    #    Play around with different number of outputs\n",
    "    # Function Definition from Above:\n",
    "    #   fully_conn(x_tensor, num_outputs)\n",
    "    conv_net = fully_conn(conv_net, 128)\n",
    "    conv_net = tf.nn.dropout(conv_net, keep_prob)\n",
    "    \n",
    "    conv_net = fully_conn(conv_net, 64)\n",
    "    conv_net = tf.nn.dropout(conv_net, keep_prob)\n",
    "    \n",
    "    \n",
    "    conv_net = fully_conn(conv_net, 256)\n",
    "    conv_net = tf.nn.dropout(conv_net, keep_prob)\n",
    "    \n",
    "    \n",
    "    # TODO: Apply an Output Layer\n",
    "    #    Set this to the number of classes\n",
    "    # Function Definition from Above:\n",
    "    #   output(x_tensor, num_outputs)\n",
    "    \n",
    "    \n",
    "    # TODO: return output\n",
    "    return output(conv_net, 10)\n",
    "\n",
    "\n",
    "\"\"\"\n",
    "DON'T MODIFY ANYTHING IN THIS CELL THAT IS BELOW THIS LINE\n",
    "\"\"\"\n",
    "\n",
    "##############################\n",
    "## Build the Neural Network ##\n",
    "##############################\n",
    "\n",
    "# Remove previous weights, bias, inputs, etc..\n",
    "tf.reset_default_graph()\n",
    "\n",
    "# Inputs\n",
    "x = neural_net_image_input((32, 32, 3))\n",
    "y = neural_net_label_input(10)\n",
    "keep_prob = neural_net_keep_prob_input()\n",
    "\n",
    "# Model\n",
    "logits = conv_net(x, keep_prob)\n",
    "\n",
    "# Name logits Tensor, so that is can be loaded from disk after training\n",
    "logits = tf.identity(logits, name='logits')\n",
    "\n",
    "# Loss and Optimizer\n",
    "cost = tf.reduce_mean(tf.nn.softmax_cross_entropy_with_logits(logits=logits, labels=y))\n",
    "optimizer = tf.train.AdamOptimizer().minimize(cost)\n",
    "\n",
    "# Accuracy\n",
    "correct_pred = tf.equal(tf.argmax(logits, 1), tf.argmax(y, 1))\n",
    "accuracy = tf.reduce_mean(tf.cast(correct_pred, tf.float32), name='accuracy')\n",
    "\n",
    "tests.test_conv_net(conv_net)"
   ]
  },
  {
   "cell_type": "markdown",
   "metadata": {
    "deletable": true,
    "editable": true
   },
   "source": [
    "## Train the Neural Network\n",
    "### Single Optimization\n",
    "Implement the function `train_neural_network` to do a single optimization.  The optimization should use `optimizer` to optimize in `session` with a `feed_dict` of the following:\n",
    "* `x` for image input\n",
    "* `y` for labels\n",
    "* `keep_prob` for keep probability for dropout\n",
    "\n",
    "This function will be called for each batch, so `tf.global_variables_initializer()` has already been called.\n",
    "\n",
    "Note: Nothing needs to be returned. This function is only optimizing the neural network."
   ]
  },
  {
   "cell_type": "code",
   "execution_count": 39,
   "metadata": {
    "collapsed": false,
    "deletable": true,
    "editable": true
   },
   "outputs": [
    {
     "name": "stdout",
     "output_type": "stream",
     "text": [
      "Tests Passed\n"
     ]
    }
   ],
   "source": [
    "def train_neural_network(session, optimizer, keep_probability, feature_batch, label_batch):\n",
    "    \"\"\"\n",
    "    Optimize the session on a batch of images and labels\n",
    "    : session: Current TensorFlow session\n",
    "    : optimizer: TensorFlow optimizer function\n",
    "    : keep_probability: keep probability\n",
    "    : feature_batch: Batch of Numpy image data\n",
    "    : label_batch: Batch of Numpy label data\n",
    "    \"\"\"\n",
    "    # TODO: Implement Function\n",
    "    optimizer = session.run(\n",
    "        [optimizer],\n",
    "        feed_dict={x: feature_batch, y: label_batch, keep_prob: keep_probability})\n",
    "    pass\n",
    "\n",
    "\"\"\"\n",
    "DON'T MODIFY ANYTHING IN THIS CELL THAT IS BELOW THIS LINE\n",
    "\"\"\"\n",
    "tests.test_train_nn(train_neural_network)"
   ]
  },
  {
   "cell_type": "markdown",
   "metadata": {
    "deletable": true,
    "editable": true
   },
   "source": [
    "### Show Stats\n",
    "Implement the function `print_stats` to print loss and validation accuracy.  Use the global variables `valid_features` and `valid_labels` to calculate validation accuracy.  Use a keep probability of `1.0` to calculate the loss and validation accuracy."
   ]
  },
  {
   "cell_type": "code",
   "execution_count": 40,
   "metadata": {
    "collapsed": false,
    "deletable": true,
    "editable": true
   },
   "outputs": [],
   "source": [
    "def print_stats(session, feature_batch, label_batch, cost, accuracy):\n",
    "    \"\"\"\n",
    "    Print information about loss and validation accuracy\n",
    "    : session: Current TensorFlow session\n",
    "    : feature_batch: Batch of Numpy image data\n",
    "    : label_batch: Batch of Numpy label data\n",
    "    : cost: TensorFlow cost function\n",
    "    : accuracy: TensorFlow accuracy function\n",
    "    \"\"\"\n",
    "    # TODO: Implement Function\n",
    "    loss = session.run(cost, feed_dict={x: feature_batch, y: label_batch, keep_prob: 1.})\n",
    "    valid_acc = session.run(accuracy, feed_dict={x: valid_features, y: valid_labels, keep_prob: 1.})\n",
    "\n",
    "    print('Accuracy: {:.6f}, Loss: {:>10.4f} Validation'.format(valid_acc,loss))\n",
    "\n",
    "    pass"
   ]
  },
  {
   "cell_type": "markdown",
   "metadata": {
    "deletable": true,
    "editable": true
   },
   "source": [
    "### Hyperparameters\n",
    "Tune the following parameters:\n",
    "* Set `epochs` to the number of iterations until the network stops learning or start overfitting\n",
    "* Set `batch_size` to the highest number that your machine has memory for.  Most people set them to common sizes of memory:\n",
    " * 64\n",
    " * 128\n",
    " * 256\n",
    " * ...\n",
    "* Set `keep_probability` to the probability of keeping a node using dropout"
   ]
  },
  {
   "cell_type": "code",
   "execution_count": 41,
   "metadata": {
    "collapsed": true,
    "deletable": true,
    "editable": true
   },
   "outputs": [],
   "source": [
    "# TODO: Tune Parameters\n",
    "epochs = 60\n",
    "batch_size = 256\n",
    "keep_probability = 0.50"
   ]
  },
  {
   "cell_type": "markdown",
   "metadata": {
    "deletable": true,
    "editable": true
   },
   "source": [
    "### Train on a Single CIFAR-10 Batch\n",
    "Instead of training the neural network on all the CIFAR-10 batches of data, let's use a single batch. This should save time while you iterate on the model to get a better accuracy.  Once the final validation accuracy is 50% or greater, run the model on all the data in the next section."
   ]
  },
  {
   "cell_type": "code",
   "execution_count": 42,
   "metadata": {
    "collapsed": false,
    "deletable": true,
    "editable": true
   },
   "outputs": [
    {
     "name": "stdout",
     "output_type": "stream",
     "text": [
      "Checking the Training on a Single Batch...\n",
      "Epoch  1, CIFAR-10 Batch 1:  Accuracy: 0.154600, Loss:     2.2965 Validation\n",
      "Epoch  2, CIFAR-10 Batch 1:  Accuracy: 0.162400, Loss:     2.2660 Validation\n",
      "Epoch  3, CIFAR-10 Batch 1:  Accuracy: 0.242800, Loss:     2.1478 Validation\n",
      "Epoch  4, CIFAR-10 Batch 1:  Accuracy: 0.301200, Loss:     1.9144 Validation\n",
      "Epoch  5, CIFAR-10 Batch 1:  Accuracy: 0.310400, Loss:     1.8538 Validation\n",
      "Epoch  6, CIFAR-10 Batch 1:  Accuracy: 0.356600, Loss:     1.7097 Validation\n",
      "Epoch  7, CIFAR-10 Batch 1:  Accuracy: 0.374200, Loss:     1.5680 Validation\n",
      "Epoch  8, CIFAR-10 Batch 1:  Accuracy: 0.377400, Loss:     1.4957 Validation\n",
      "Epoch  9, CIFAR-10 Batch 1:  Accuracy: 0.386600, Loss:     1.4267 Validation\n",
      "Epoch 10, CIFAR-10 Batch 1:  Accuracy: 0.417200, Loss:     1.3111 Validation\n",
      "Epoch 11, CIFAR-10 Batch 1:  Accuracy: 0.423800, Loss:     1.2488 Validation\n",
      "Epoch 12, CIFAR-10 Batch 1:  Accuracy: 0.447800, Loss:     1.0916 Validation\n",
      "Epoch 13, CIFAR-10 Batch 1:  Accuracy: 0.435000, Loss:     1.0500 Validation\n",
      "Epoch 14, CIFAR-10 Batch 1:  Accuracy: 0.436400, Loss:     1.0274 Validation\n",
      "Epoch 15, CIFAR-10 Batch 1:  Accuracy: 0.470600, Loss:     0.8391 Validation\n",
      "Epoch 16, CIFAR-10 Batch 1:  Accuracy: 0.466000, Loss:     0.8157 Validation\n",
      "Epoch 17, CIFAR-10 Batch 1:  Accuracy: 0.468800, Loss:     0.9527 Validation\n",
      "Epoch 18, CIFAR-10 Batch 1:  Accuracy: 0.463200, Loss:     0.8101 Validation\n",
      "Epoch 19, CIFAR-10 Batch 1:  Accuracy: 0.493000, Loss:     0.6569 Validation\n",
      "Epoch 20, CIFAR-10 Batch 1:  Accuracy: 0.491400, Loss:     0.5853 Validation\n",
      "Epoch 21, CIFAR-10 Batch 1:  Accuracy: 0.483400, Loss:     0.5876 Validation\n",
      "Epoch 22, CIFAR-10 Batch 1:  Accuracy: 0.472800, Loss:     0.5341 Validation\n",
      "Epoch 23, CIFAR-10 Batch 1:  Accuracy: 0.492600, Loss:     0.5445 Validation\n",
      "Epoch 24, CIFAR-10 Batch 1:  Accuracy: 0.494000, Loss:     0.4687 Validation\n",
      "Epoch 25, CIFAR-10 Batch 1:  Accuracy: 0.478000, Loss:     0.4650 Validation\n",
      "Epoch 26, CIFAR-10 Batch 1:  Accuracy: 0.490200, Loss:     0.4542 Validation\n",
      "Epoch 27, CIFAR-10 Batch 1:  Accuracy: 0.488400, Loss:     0.4216 Validation\n",
      "Epoch 28, CIFAR-10 Batch 1:  Accuracy: 0.499200, Loss:     0.3151 Validation\n",
      "Epoch 29, CIFAR-10 Batch 1:  Accuracy: 0.493400, Loss:     0.3273 Validation\n",
      "Epoch 30, CIFAR-10 Batch 1:  Accuracy: 0.459600, Loss:     0.4434 Validation\n",
      "Epoch 31, CIFAR-10 Batch 1:  Accuracy: 0.485400, Loss:     0.3002 Validation\n",
      "Epoch 32, CIFAR-10 Batch 1:  Accuracy: 0.505800, Loss:     0.2348 Validation\n",
      "Epoch 33, CIFAR-10 Batch 1:  Accuracy: 0.501200, Loss:     0.2444 Validation\n",
      "Epoch 34, CIFAR-10 Batch 1:  Accuracy: 0.497800, Loss:     0.2687 Validation\n",
      "Epoch 35, CIFAR-10 Batch 1:  Accuracy: 0.491600, Loss:     0.2593 Validation\n",
      "Epoch 36, CIFAR-10 Batch 1:  Accuracy: 0.509000, Loss:     0.2341 Validation\n",
      "Epoch 37, CIFAR-10 Batch 1:  Accuracy: 0.504000, Loss:     0.2150 Validation\n",
      "Epoch 38, CIFAR-10 Batch 1:  Accuracy: 0.502200, Loss:     0.1832 Validation\n",
      "Epoch 39, CIFAR-10 Batch 1:  Accuracy: 0.484600, Loss:     0.1746 Validation\n",
      "Epoch 40, CIFAR-10 Batch 1:  Accuracy: 0.487600, Loss:     0.1655 Validation\n",
      "Epoch 41, CIFAR-10 Batch 1:  Accuracy: 0.492200, Loss:     0.1753 Validation\n",
      "Epoch 42, CIFAR-10 Batch 1:  Accuracy: 0.487000, Loss:     0.1557 Validation\n",
      "Epoch 43, CIFAR-10 Batch 1:  Accuracy: 0.504200, Loss:     0.1489 Validation\n",
      "Epoch 44, CIFAR-10 Batch 1:  Accuracy: 0.503800, Loss:     0.1105 Validation\n",
      "Epoch 45, CIFAR-10 Batch 1:  Accuracy: 0.512000, Loss:     0.0980 Validation\n",
      "Epoch 46, CIFAR-10 Batch 1:  Accuracy: 0.502200, Loss:     0.1123 Validation\n",
      "Epoch 47, CIFAR-10 Batch 1:  Accuracy: 0.516800, Loss:     0.0896 Validation\n",
      "Epoch 48, CIFAR-10 Batch 1:  Accuracy: 0.520400, Loss:     0.0876 Validation\n",
      "Epoch 49, CIFAR-10 Batch 1:  Accuracy: 0.511000, Loss:     0.0681 Validation\n",
      "Epoch 50, CIFAR-10 Batch 1:  Accuracy: 0.498800, Loss:     0.0562 Validation\n",
      "Epoch 51, CIFAR-10 Batch 1:  Accuracy: 0.495000, Loss:     0.0446 Validation\n",
      "Epoch 52, CIFAR-10 Batch 1:  Accuracy: 0.493200, Loss:     0.0395 Validation\n",
      "Epoch 53, CIFAR-10 Batch 1:  Accuracy: 0.493400, Loss:     0.0612 Validation\n",
      "Epoch 54, CIFAR-10 Batch 1:  Accuracy: 0.494800, Loss:     0.0462 Validation\n",
      "Epoch 55, CIFAR-10 Batch 1:  Accuracy: 0.511800, Loss:     0.0275 Validation\n",
      "Epoch 56, CIFAR-10 Batch 1:  Accuracy: 0.513800, Loss:     0.0418 Validation\n",
      "Epoch 57, CIFAR-10 Batch 1:  Accuracy: 0.493200, Loss:     0.0254 Validation\n",
      "Epoch 58, CIFAR-10 Batch 1:  Accuracy: 0.491000, Loss:     0.0302 Validation\n",
      "Epoch 59, CIFAR-10 Batch 1:  Accuracy: 0.516400, Loss:     0.0196 Validation\n",
      "Epoch 60, CIFAR-10 Batch 1:  Accuracy: 0.501600, Loss:     0.0335 Validation\n"
     ]
    }
   ],
   "source": [
    "\"\"\"\n",
    "DON'T MODIFY ANYTHING IN THIS CELL\n",
    "\"\"\"\n",
    "print('Checking the Training on a Single Batch...')\n",
    "with tf.Session() as sess:\n",
    "    # Initializing the variables\n",
    "    sess.run(tf.global_variables_initializer())\n",
    "    \n",
    "    # Training cycle\n",
    "    for epoch in range(epochs):\n",
    "        batch_i = 1\n",
    "        for batch_features, batch_labels in helper.load_preprocess_training_batch(batch_i, batch_size):\n",
    "            train_neural_network(sess, optimizer, keep_probability, batch_features, batch_labels)\n",
    "        print('Epoch {:>2}, CIFAR-10 Batch {}:  '.format(epoch + 1, batch_i), end='')\n",
    "        print_stats(sess, batch_features, batch_labels, cost, accuracy)"
   ]
  },
  {
   "cell_type": "markdown",
   "metadata": {
    "deletable": true,
    "editable": true
   },
   "source": [
    "### Fully Train the Model\n",
    "Now that you got a good accuracy with a single CIFAR-10 batch, try it with all five batches."
   ]
  },
  {
   "cell_type": "code",
   "execution_count": 43,
   "metadata": {
    "collapsed": false,
    "deletable": true,
    "editable": true
   },
   "outputs": [
    {
     "name": "stdout",
     "output_type": "stream",
     "text": [
      "Training...\n",
      "Epoch  1, CIFAR-10 Batch 1:  Accuracy: 0.119200, Loss:     2.3147 Validation\n",
      "Epoch  1, CIFAR-10 Batch 2:  Accuracy: 0.175200, Loss:     2.2672 Validation\n",
      "Epoch  1, CIFAR-10 Batch 3:  Accuracy: 0.184200, Loss:     1.9433 Validation\n",
      "Epoch  1, CIFAR-10 Batch 4:  Accuracy: 0.232800, Loss:     1.9339 Validation\n",
      "Epoch  1, CIFAR-10 Batch 5:  Accuracy: 0.250000, Loss:     1.8749 Validation\n",
      "Epoch  2, CIFAR-10 Batch 1:  Accuracy: 0.284200, Loss:     1.9975 Validation\n",
      "Epoch  2, CIFAR-10 Batch 2:  Accuracy: 0.336000, Loss:     1.8513 Validation\n",
      "Epoch  2, CIFAR-10 Batch 3:  Accuracy: 0.369800, Loss:     1.3517 Validation\n",
      "Epoch  2, CIFAR-10 Batch 4:  Accuracy: 0.406400, Loss:     1.4965 Validation\n",
      "Epoch  2, CIFAR-10 Batch 5:  Accuracy: 0.406400, Loss:     1.4806 Validation\n",
      "Epoch  3, CIFAR-10 Batch 1:  Accuracy: 0.373200, Loss:     1.6586 Validation\n",
      "Epoch  3, CIFAR-10 Batch 2:  Accuracy: 0.394000, Loss:     1.5946 Validation\n",
      "Epoch  3, CIFAR-10 Batch 3:  Accuracy: 0.425000, Loss:     1.1759 Validation\n",
      "Epoch  3, CIFAR-10 Batch 4:  Accuracy: 0.420600, Loss:     1.4016 Validation\n",
      "Epoch  3, CIFAR-10 Batch 5:  Accuracy: 0.421000, Loss:     1.3585 Validation\n",
      "Epoch  4, CIFAR-10 Batch 1:  Accuracy: 0.462200, Loss:     1.2838 Validation\n",
      "Epoch  4, CIFAR-10 Batch 2:  Accuracy: 0.426200, Loss:     1.3864 Validation\n",
      "Epoch  4, CIFAR-10 Batch 3:  Accuracy: 0.471600, Loss:     1.0168 Validation\n",
      "Epoch  4, CIFAR-10 Batch 4:  Accuracy: 0.493000, Loss:     1.2483 Validation\n",
      "Epoch  4, CIFAR-10 Batch 5:  Accuracy: 0.484400, Loss:     1.1630 Validation\n",
      "Epoch  5, CIFAR-10 Batch 1:  Accuracy: 0.509600, Loss:     1.1133 Validation\n",
      "Epoch  5, CIFAR-10 Batch 2:  Accuracy: 0.450800, Loss:     1.1108 Validation\n",
      "Epoch  5, CIFAR-10 Batch 3:  Accuracy: 0.509000, Loss:     0.8277 Validation\n",
      "Epoch  5, CIFAR-10 Batch 4:  Accuracy: 0.528600, Loss:     1.0233 Validation\n",
      "Epoch  5, CIFAR-10 Batch 5:  Accuracy: 0.506400, Loss:     1.0074 Validation\n",
      "Epoch  6, CIFAR-10 Batch 1:  Accuracy: 0.523400, Loss:     1.0645 Validation\n",
      "Epoch  6, CIFAR-10 Batch 2:  Accuracy: 0.535200, Loss:     0.8878 Validation\n",
      "Epoch  6, CIFAR-10 Batch 3:  Accuracy: 0.521000, Loss:     0.6481 Validation\n",
      "Epoch  6, CIFAR-10 Batch 4:  Accuracy: 0.528200, Loss:     0.9167 Validation\n",
      "Epoch  6, CIFAR-10 Batch 5:  Accuracy: 0.540600, Loss:     0.8823 Validation\n",
      "Epoch  7, CIFAR-10 Batch 1:  Accuracy: 0.532600, Loss:     0.9318 Validation\n",
      "Epoch  7, CIFAR-10 Batch 2:  Accuracy: 0.546400, Loss:     0.8896 Validation\n",
      "Epoch  7, CIFAR-10 Batch 3:  Accuracy: 0.542000, Loss:     0.5349 Validation\n",
      "Epoch  7, CIFAR-10 Batch 4:  Accuracy: 0.534600, Loss:     0.8072 Validation\n",
      "Epoch  7, CIFAR-10 Batch 5:  Accuracy: 0.551200, Loss:     0.7730 Validation\n",
      "Epoch  8, CIFAR-10 Batch 1:  Accuracy: 0.523800, Loss:     0.8392 Validation\n",
      "Epoch  8, CIFAR-10 Batch 2:  Accuracy: 0.538000, Loss:     0.7135 Validation\n",
      "Epoch  8, CIFAR-10 Batch 3:  Accuracy: 0.560800, Loss:     0.5191 Validation\n",
      "Epoch  8, CIFAR-10 Batch 4:  Accuracy: 0.553800, Loss:     0.7156 Validation\n",
      "Epoch  8, CIFAR-10 Batch 5:  Accuracy: 0.565600, Loss:     0.6581 Validation\n",
      "Epoch  9, CIFAR-10 Batch 1:  Accuracy: 0.561800, Loss:     0.7704 Validation\n",
      "Epoch  9, CIFAR-10 Batch 2:  Accuracy: 0.545400, Loss:     0.6184 Validation\n",
      "Epoch  9, CIFAR-10 Batch 3:  Accuracy: 0.573000, Loss:     0.3992 Validation\n",
      "Epoch  9, CIFAR-10 Batch 4:  Accuracy: 0.572400, Loss:     0.6178 Validation\n",
      "Epoch  9, CIFAR-10 Batch 5:  Accuracy: 0.559000, Loss:     0.5608 Validation\n",
      "Epoch 10, CIFAR-10 Batch 1:  Accuracy: 0.552600, Loss:     0.6545 Validation\n",
      "Epoch 10, CIFAR-10 Batch 2:  Accuracy: 0.573200, Loss:     0.5377 Validation\n",
      "Epoch 10, CIFAR-10 Batch 3:  Accuracy: 0.569600, Loss:     0.3994 Validation\n",
      "Epoch 10, CIFAR-10 Batch 4:  Accuracy: 0.552000, Loss:     0.5963 Validation\n",
      "Epoch 10, CIFAR-10 Batch 5:  Accuracy: 0.564600, Loss:     0.5343 Validation\n",
      "Epoch 11, CIFAR-10 Batch 1:  Accuracy: 0.583400, Loss:     0.4988 Validation\n",
      "Epoch 11, CIFAR-10 Batch 2:  Accuracy: 0.542000, Loss:     0.5069 Validation\n",
      "Epoch 11, CIFAR-10 Batch 3:  Accuracy: 0.579000, Loss:     0.3585 Validation\n",
      "Epoch 11, CIFAR-10 Batch 4:  Accuracy: 0.569600, Loss:     0.4326 Validation\n",
      "Epoch 11, CIFAR-10 Batch 5:  Accuracy: 0.574000, Loss:     0.4873 Validation\n",
      "Epoch 12, CIFAR-10 Batch 1:  Accuracy: 0.570200, Loss:     0.4903 Validation\n",
      "Epoch 12, CIFAR-10 Batch 2:  Accuracy: 0.568800, Loss:     0.3765 Validation\n",
      "Epoch 12, CIFAR-10 Batch 3:  Accuracy: 0.587600, Loss:     0.3186 Validation\n",
      "Epoch 12, CIFAR-10 Batch 4:  Accuracy: 0.569800, Loss:     0.4700 Validation\n",
      "Epoch 12, CIFAR-10 Batch 5:  Accuracy: 0.565800, Loss:     0.5267 Validation\n",
      "Epoch 13, CIFAR-10 Batch 1:  Accuracy: 0.565000, Loss:     0.4314 Validation\n",
      "Epoch 13, CIFAR-10 Batch 2:  Accuracy: 0.603600, Loss:     0.4069 Validation\n",
      "Epoch 13, CIFAR-10 Batch 3:  Accuracy: 0.591400, Loss:     0.2998 Validation\n",
      "Epoch 13, CIFAR-10 Batch 4:  Accuracy: 0.577400, Loss:     0.4457 Validation\n",
      "Epoch 13, CIFAR-10 Batch 5:  Accuracy: 0.565200, Loss:     0.4630 Validation\n",
      "Epoch 14, CIFAR-10 Batch 1:  Accuracy: 0.574600, Loss:     0.4346 Validation\n",
      "Epoch 14, CIFAR-10 Batch 2:  Accuracy: 0.588200, Loss:     0.3534 Validation\n",
      "Epoch 14, CIFAR-10 Batch 3:  Accuracy: 0.566200, Loss:     0.2632 Validation\n",
      "Epoch 14, CIFAR-10 Batch 4:  Accuracy: 0.582800, Loss:     0.3976 Validation\n",
      "Epoch 14, CIFAR-10 Batch 5:  Accuracy: 0.598400, Loss:     0.3904 Validation\n",
      "Epoch 15, CIFAR-10 Batch 1:  Accuracy: 0.606000, Loss:     0.3367 Validation\n",
      "Epoch 15, CIFAR-10 Batch 2:  Accuracy: 0.589800, Loss:     0.2973 Validation\n",
      "Epoch 15, CIFAR-10 Batch 3:  Accuracy: 0.594800, Loss:     0.2339 Validation\n",
      "Epoch 15, CIFAR-10 Batch 4:  Accuracy: 0.594400, Loss:     0.3276 Validation\n",
      "Epoch 15, CIFAR-10 Batch 5:  Accuracy: 0.609800, Loss:     0.3018 Validation\n",
      "Epoch 16, CIFAR-10 Batch 1:  Accuracy: 0.610000, Loss:     0.4010 Validation\n",
      "Epoch 16, CIFAR-10 Batch 2:  Accuracy: 0.585600, Loss:     0.3053 Validation\n",
      "Epoch 16, CIFAR-10 Batch 3:  Accuracy: 0.577200, Loss:     0.2020 Validation\n",
      "Epoch 16, CIFAR-10 Batch 4:  Accuracy: 0.587400, Loss:     0.2766 Validation\n",
      "Epoch 16, CIFAR-10 Batch 5:  Accuracy: 0.620000, Loss:     0.2369 Validation\n",
      "Epoch 17, CIFAR-10 Batch 1:  Accuracy: 0.605200, Loss:     0.3176 Validation\n",
      "Epoch 17, CIFAR-10 Batch 2:  Accuracy: 0.584600, Loss:     0.2553 Validation\n",
      "Epoch 17, CIFAR-10 Batch 3:  Accuracy: 0.588400, Loss:     0.1691 Validation\n",
      "Epoch 17, CIFAR-10 Batch 4:  Accuracy: 0.601000, Loss:     0.2241 Validation\n",
      "Epoch 17, CIFAR-10 Batch 5:  Accuracy: 0.595600, Loss:     0.2429 Validation\n",
      "Epoch 18, CIFAR-10 Batch 1:  Accuracy: 0.611000, Loss:     0.2611 Validation\n",
      "Epoch 18, CIFAR-10 Batch 2:  Accuracy: 0.605400, Loss:     0.2307 Validation\n",
      "Epoch 18, CIFAR-10 Batch 3:  Accuracy: 0.604400, Loss:     0.1668 Validation\n",
      "Epoch 18, CIFAR-10 Batch 4:  Accuracy: 0.598400, Loss:     0.2225 Validation\n",
      "Epoch 18, CIFAR-10 Batch 5:  Accuracy: 0.591400, Loss:     0.3464 Validation\n",
      "Epoch 19, CIFAR-10 Batch 1:  Accuracy: 0.606200, Loss:     0.2421 Validation\n",
      "Epoch 19, CIFAR-10 Batch 2:  Accuracy: 0.606800, Loss:     0.2042 Validation\n",
      "Epoch 19, CIFAR-10 Batch 3:  Accuracy: 0.603000, Loss:     0.1736 Validation\n",
      "Epoch 19, CIFAR-10 Batch 4:  Accuracy: 0.607200, Loss:     0.3033 Validation\n",
      "Epoch 19, CIFAR-10 Batch 5:  Accuracy: 0.594200, Loss:     0.2325 Validation\n",
      "Epoch 20, CIFAR-10 Batch 1:  Accuracy: 0.606200, Loss:     0.2204 Validation\n",
      "Epoch 20, CIFAR-10 Batch 2:  Accuracy: 0.604400, Loss:     0.2163 Validation\n",
      "Epoch 20, CIFAR-10 Batch 3:  Accuracy: 0.597600, Loss:     0.1837 Validation\n",
      "Epoch 20, CIFAR-10 Batch 4:  Accuracy: 0.607400, Loss:     0.1974 Validation\n",
      "Epoch 20, CIFAR-10 Batch 5:  Accuracy: 0.598200, Loss:     0.2133 Validation\n",
      "Epoch 21, CIFAR-10 Batch 1:  Accuracy: 0.592800, Loss:     0.2511 Validation\n",
      "Epoch 21, CIFAR-10 Batch 2:  Accuracy: 0.605000, Loss:     0.1735 Validation\n",
      "Epoch 21, CIFAR-10 Batch 3:  Accuracy: 0.590600, Loss:     0.1398 Validation\n",
      "Epoch 21, CIFAR-10 Batch 4:  Accuracy: 0.598200, Loss:     0.1956 Validation\n",
      "Epoch 21, CIFAR-10 Batch 5:  Accuracy: 0.600200, Loss:     0.1771 Validation\n",
      "Epoch 22, CIFAR-10 Batch 1:  Accuracy: 0.606400, Loss:     0.2166 Validation\n",
      "Epoch 22, CIFAR-10 Batch 2:  Accuracy: 0.601800, Loss:     0.1465 Validation\n",
      "Epoch 22, CIFAR-10 Batch 3:  Accuracy: 0.616400, Loss:     0.1332 Validation\n",
      "Epoch 22, CIFAR-10 Batch 4:  Accuracy: 0.608000, Loss:     0.1667 Validation\n",
      "Epoch 22, CIFAR-10 Batch 5:  Accuracy: 0.619400, Loss:     0.1453 Validation\n",
      "Epoch 23, CIFAR-10 Batch 1:  Accuracy: 0.595800, Loss:     0.2356 Validation\n",
      "Epoch 23, CIFAR-10 Batch 2:  Accuracy: 0.601000, Loss:     0.1466 Validation\n",
      "Epoch 23, CIFAR-10 Batch 3:  Accuracy: 0.617400, Loss:     0.1267 Validation\n",
      "Epoch 23, CIFAR-10 Batch 4:  Accuracy: 0.601400, Loss:     0.1929 Validation\n",
      "Epoch 23, CIFAR-10 Batch 5:  Accuracy: 0.608600, Loss:     0.1659 Validation\n",
      "Epoch 24, CIFAR-10 Batch 1:  Accuracy: 0.601800, Loss:     0.2112 Validation\n",
      "Epoch 24, CIFAR-10 Batch 2:  Accuracy: 0.592200, Loss:     0.1384 Validation\n",
      "Epoch 24, CIFAR-10 Batch 3:  Accuracy: 0.606200, Loss:     0.1384 Validation\n",
      "Epoch 24, CIFAR-10 Batch 4:  Accuracy: 0.590400, Loss:     0.1374 Validation\n",
      "Epoch 24, CIFAR-10 Batch 5:  Accuracy: 0.622800, Loss:     0.1261 Validation\n",
      "Epoch 25, CIFAR-10 Batch 1:  Accuracy: 0.593600, Loss:     0.2241 Validation\n",
      "Epoch 25, CIFAR-10 Batch 2:  Accuracy: 0.603800, Loss:     0.1438 Validation\n",
      "Epoch 25, CIFAR-10 Batch 3:  Accuracy: 0.610000, Loss:     0.0940 Validation\n",
      "Epoch 25, CIFAR-10 Batch 4:  Accuracy: 0.594000, Loss:     0.1413 Validation\n",
      "Epoch 25, CIFAR-10 Batch 5:  Accuracy: 0.606000, Loss:     0.1487 Validation\n",
      "Epoch 26, CIFAR-10 Batch 1:  Accuracy: 0.589800, Loss:     0.2044 Validation\n",
      "Epoch 26, CIFAR-10 Batch 2:  Accuracy: 0.601800, Loss:     0.0915 Validation\n",
      "Epoch 26, CIFAR-10 Batch 3:  Accuracy: 0.609400, Loss:     0.0824 Validation\n",
      "Epoch 26, CIFAR-10 Batch 4:  Accuracy: 0.602600, Loss:     0.0966 Validation\n",
      "Epoch 26, CIFAR-10 Batch 5:  Accuracy: 0.617800, Loss:     0.1112 Validation\n",
      "Epoch 27, CIFAR-10 Batch 1:  Accuracy: 0.598600, Loss:     0.2189 Validation\n",
      "Epoch 27, CIFAR-10 Batch 2:  Accuracy: 0.592200, Loss:     0.1061 Validation\n",
      "Epoch 27, CIFAR-10 Batch 3:  Accuracy: 0.602600, Loss:     0.0851 Validation\n",
      "Epoch 27, CIFAR-10 Batch 4:  Accuracy: 0.602200, Loss:     0.1011 Validation\n",
      "Epoch 27, CIFAR-10 Batch 5:  Accuracy: 0.605600, Loss:     0.1226 Validation\n",
      "Epoch 28, CIFAR-10 Batch 1:  Accuracy: 0.604400, Loss:     0.1926 Validation\n",
      "Epoch 28, CIFAR-10 Batch 2:  Accuracy: 0.573600, Loss:     0.1659 Validation\n",
      "Epoch 28, CIFAR-10 Batch 3:  Accuracy: 0.616000, Loss:     0.0795 Validation\n",
      "Epoch 28, CIFAR-10 Batch 4:  Accuracy: 0.609400, Loss:     0.1112 Validation\n",
      "Epoch 28, CIFAR-10 Batch 5:  Accuracy: 0.601800, Loss:     0.1465 Validation\n",
      "Epoch 29, CIFAR-10 Batch 1:  Accuracy: 0.600800, Loss:     0.1776 Validation\n",
      "Epoch 29, CIFAR-10 Batch 2:  Accuracy: 0.587200, Loss:     0.1306 Validation\n",
      "Epoch 29, CIFAR-10 Batch 3:  Accuracy: 0.607400, Loss:     0.0713 Validation\n",
      "Epoch 29, CIFAR-10 Batch 4:  Accuracy: 0.612000, Loss:     0.1070 Validation\n",
      "Epoch 29, CIFAR-10 Batch 5:  Accuracy: 0.613000, Loss:     0.0879 Validation\n",
      "Epoch 30, CIFAR-10 Batch 1:  Accuracy: 0.595600, Loss:     0.1935 Validation\n",
      "Epoch 30, CIFAR-10 Batch 2:  Accuracy: 0.604200, Loss:     0.1035 Validation\n",
      "Epoch 30, CIFAR-10 Batch 3:  Accuracy: 0.609000, Loss:     0.0774 Validation\n",
      "Epoch 30, CIFAR-10 Batch 4:  Accuracy: 0.589800, Loss:     0.0810 Validation\n",
      "Epoch 30, CIFAR-10 Batch 5:  Accuracy: 0.603800, Loss:     0.0995 Validation\n",
      "Epoch 31, CIFAR-10 Batch 1:  Accuracy: 0.589000, Loss:     0.1809 Validation\n",
      "Epoch 31, CIFAR-10 Batch 2:  Accuracy: 0.592400, Loss:     0.0923 Validation\n",
      "Epoch 31, CIFAR-10 Batch 3:  Accuracy: 0.616000, Loss:     0.0577 Validation\n",
      "Epoch 31, CIFAR-10 Batch 4:  Accuracy: 0.604200, Loss:     0.0941 Validation\n",
      "Epoch 31, CIFAR-10 Batch 5:  Accuracy: 0.614400, Loss:     0.0799 Validation\n",
      "Epoch 32, CIFAR-10 Batch 1:  Accuracy: 0.600800, Loss:     0.1984 Validation\n",
      "Epoch 32, CIFAR-10 Batch 2:  Accuracy: 0.573600, Loss:     0.1226 Validation\n",
      "Epoch 32, CIFAR-10 Batch 3:  Accuracy: 0.605200, Loss:     0.0644 Validation\n",
      "Epoch 32, CIFAR-10 Batch 4:  Accuracy: 0.603400, Loss:     0.0602 Validation\n",
      "Epoch 32, CIFAR-10 Batch 5:  Accuracy: 0.607400, Loss:     0.0624 Validation\n",
      "Epoch 33, CIFAR-10 Batch 1:  Accuracy: 0.602400, Loss:     0.1575 Validation\n",
      "Epoch 33, CIFAR-10 Batch 2:  Accuracy: 0.588600, Loss:     0.0643 Validation\n",
      "Epoch 33, CIFAR-10 Batch 3:  Accuracy: 0.598000, Loss:     0.0876 Validation\n",
      "Epoch 33, CIFAR-10 Batch 4:  Accuracy: 0.606800, Loss:     0.0738 Validation\n",
      "Epoch 33, CIFAR-10 Batch 5:  Accuracy: 0.609800, Loss:     0.0828 Validation\n",
      "Epoch 34, CIFAR-10 Batch 1:  Accuracy: 0.599000, Loss:     0.2012 Validation\n",
      "Epoch 34, CIFAR-10 Batch 2:  Accuracy: 0.608000, Loss:     0.0679 Validation\n",
      "Epoch 34, CIFAR-10 Batch 3:  Accuracy: 0.602200, Loss:     0.0576 Validation\n",
      "Epoch 34, CIFAR-10 Batch 4:  Accuracy: 0.604800, Loss:     0.0873 Validation\n",
      "Epoch 34, CIFAR-10 Batch 5:  Accuracy: 0.613000, Loss:     0.0596 Validation\n",
      "Epoch 35, CIFAR-10 Batch 1:  Accuracy: 0.609400, Loss:     0.1518 Validation\n",
      "Epoch 35, CIFAR-10 Batch 2:  Accuracy: 0.590600, Loss:     0.0768 Validation\n",
      "Epoch 35, CIFAR-10 Batch 3:  Accuracy: 0.598800, Loss:     0.0486 Validation\n",
      "Epoch 35, CIFAR-10 Batch 4:  Accuracy: 0.595400, Loss:     0.0515 Validation\n",
      "Epoch 35, CIFAR-10 Batch 5:  Accuracy: 0.606800, Loss:     0.0747 Validation\n",
      "Epoch 36, CIFAR-10 Batch 1:  Accuracy: 0.611000, Loss:     0.1663 Validation\n",
      "Epoch 36, CIFAR-10 Batch 2:  Accuracy: 0.604800, Loss:     0.0617 Validation\n",
      "Epoch 36, CIFAR-10 Batch 3:  Accuracy: 0.598600, Loss:     0.0756 Validation\n",
      "Epoch 36, CIFAR-10 Batch 4:  Accuracy: 0.597400, Loss:     0.0636 Validation\n",
      "Epoch 36, CIFAR-10 Batch 5:  Accuracy: 0.614800, Loss:     0.0454 Validation\n",
      "Epoch 37, CIFAR-10 Batch 1:  Accuracy: 0.613600, Loss:     0.1406 Validation\n",
      "Epoch 37, CIFAR-10 Batch 2:  Accuracy: 0.618000, Loss:     0.3401 Validation\n",
      "Epoch 37, CIFAR-10 Batch 3:  Accuracy: 0.612400, Loss:     0.0290 Validation\n",
      "Epoch 37, CIFAR-10 Batch 4:  Accuracy: 0.601000, Loss:     0.0519 Validation\n",
      "Epoch 37, CIFAR-10 Batch 5:  Accuracy: 0.604400, Loss:     0.0660 Validation\n",
      "Epoch 38, CIFAR-10 Batch 1:  Accuracy: 0.598600, Loss:     0.1739 Validation\n",
      "Epoch 38, CIFAR-10 Batch 2:  Accuracy: 0.601600, Loss:     0.0528 Validation\n",
      "Epoch 38, CIFAR-10 Batch 3:  Accuracy: 0.627000, Loss:     0.0535 Validation\n",
      "Epoch 38, CIFAR-10 Batch 4:  Accuracy: 0.606000, Loss:     0.0522 Validation\n",
      "Epoch 38, CIFAR-10 Batch 5:  Accuracy: 0.615000, Loss:     0.0491 Validation\n",
      "Epoch 39, CIFAR-10 Batch 1:  Accuracy: 0.606200, Loss:     0.1478 Validation\n",
      "Epoch 39, CIFAR-10 Batch 2:  Accuracy: 0.602200, Loss:     0.0384 Validation\n",
      "Epoch 39, CIFAR-10 Batch 3:  Accuracy: 0.605000, Loss:     0.0517 Validation\n",
      "Epoch 39, CIFAR-10 Batch 4:  Accuracy: 0.609800, Loss:     0.0480 Validation\n",
      "Epoch 39, CIFAR-10 Batch 5:  Accuracy: 0.600800, Loss:     0.0422 Validation\n",
      "Epoch 40, CIFAR-10 Batch 1:  Accuracy: 0.593800, Loss:     0.1317 Validation\n",
      "Epoch 40, CIFAR-10 Batch 2:  Accuracy: 0.609200, Loss:     0.0282 Validation\n",
      "Epoch 40, CIFAR-10 Batch 3:  Accuracy: 0.613400, Loss:     0.0241 Validation\n",
      "Epoch 40, CIFAR-10 Batch 4:  Accuracy: 0.607400, Loss:     0.0504 Validation\n",
      "Epoch 40, CIFAR-10 Batch 5:  Accuracy: 0.602600, Loss:     0.0690 Validation\n",
      "Epoch 41, CIFAR-10 Batch 1:  Accuracy: 0.599800, Loss:     0.1566 Validation\n",
      "Epoch 41, CIFAR-10 Batch 2:  Accuracy: 0.600000, Loss:     0.0550 Validation\n",
      "Epoch 41, CIFAR-10 Batch 3:  Accuracy: 0.599000, Loss:     0.0372 Validation\n",
      "Epoch 41, CIFAR-10 Batch 4:  Accuracy: 0.614000, Loss:     0.0350 Validation\n",
      "Epoch 41, CIFAR-10 Batch 5:  Accuracy: 0.603400, Loss:     0.0537 Validation\n",
      "Epoch 42, CIFAR-10 Batch 1:  Accuracy: 0.597800, Loss:     0.1236 Validation\n",
      "Epoch 42, CIFAR-10 Batch 2:  Accuracy: 0.603000, Loss:     0.0549 Validation\n",
      "Epoch 42, CIFAR-10 Batch 3:  Accuracy: 0.619200, Loss:     0.0197 Validation\n",
      "Epoch 42, CIFAR-10 Batch 4:  Accuracy: 0.608200, Loss:     0.0766 Validation\n",
      "Epoch 42, CIFAR-10 Batch 5:  Accuracy: 0.606600, Loss:     0.0634 Validation\n",
      "Epoch 43, CIFAR-10 Batch 1:  Accuracy: 0.598800, Loss:     0.1368 Validation\n",
      "Epoch 43, CIFAR-10 Batch 2:  Accuracy: 0.612000, Loss:     0.0317 Validation\n",
      "Epoch 43, CIFAR-10 Batch 3:  Accuracy: 0.606600, Loss:     0.0301 Validation\n",
      "Epoch 43, CIFAR-10 Batch 4:  Accuracy: 0.591400, Loss:     0.0456 Validation\n",
      "Epoch 43, CIFAR-10 Batch 5:  Accuracy: 0.609200, Loss:     0.0352 Validation\n",
      "Epoch 44, CIFAR-10 Batch 1:  Accuracy: 0.595600, Loss:     0.1154 Validation\n",
      "Epoch 44, CIFAR-10 Batch 2:  Accuracy: 0.603800, Loss:     0.0289 Validation\n",
      "Epoch 44, CIFAR-10 Batch 3:  Accuracy: 0.603800, Loss:     0.0499 Validation\n",
      "Epoch 44, CIFAR-10 Batch 4:  Accuracy: 0.613600, Loss:     0.0336 Validation\n",
      "Epoch 44, CIFAR-10 Batch 5:  Accuracy: 0.610400, Loss:     0.0323 Validation\n",
      "Epoch 45, CIFAR-10 Batch 1:  Accuracy: 0.593400, Loss:     0.1025 Validation\n",
      "Epoch 45, CIFAR-10 Batch 2:  Accuracy: 0.600800, Loss:     0.0328 Validation\n",
      "Epoch 45, CIFAR-10 Batch 3:  Accuracy: 0.614800, Loss:     0.0169 Validation\n",
      "Epoch 45, CIFAR-10 Batch 4:  Accuracy: 0.608600, Loss:     0.0305 Validation\n",
      "Epoch 45, CIFAR-10 Batch 5:  Accuracy: 0.624200, Loss:     0.0256 Validation\n",
      "Epoch 46, CIFAR-10 Batch 1:  Accuracy: 0.600800, Loss:     0.1253 Validation\n",
      "Epoch 46, CIFAR-10 Batch 2:  Accuracy: 0.592000, Loss:     0.0275 Validation\n",
      "Epoch 46, CIFAR-10 Batch 3:  Accuracy: 0.606200, Loss:     0.0350 Validation\n",
      "Epoch 46, CIFAR-10 Batch 4:  Accuracy: 0.609600, Loss:     0.0421 Validation\n",
      "Epoch 46, CIFAR-10 Batch 5:  Accuracy: 0.612200, Loss:     0.0295 Validation\n",
      "Epoch 47, CIFAR-10 Batch 1:  Accuracy: 0.609400, Loss:     0.1076 Validation\n",
      "Epoch 47, CIFAR-10 Batch 2:  Accuracy: 0.598000, Loss:     0.0212 Validation\n",
      "Epoch 47, CIFAR-10 Batch 3:  Accuracy: 0.616400, Loss:     0.0253 Validation\n",
      "Epoch 47, CIFAR-10 Batch 4:  Accuracy: 0.601400, Loss:     0.0228 Validation\n",
      "Epoch 47, CIFAR-10 Batch 5:  Accuracy: 0.616800, Loss:     0.0240 Validation\n",
      "Epoch 48, CIFAR-10 Batch 1:  Accuracy: 0.600800, Loss:     0.1265 Validation\n",
      "Epoch 48, CIFAR-10 Batch 2:  Accuracy: 0.589400, Loss:     0.0199 Validation\n",
      "Epoch 48, CIFAR-10 Batch 3:  Accuracy: 0.617800, Loss:     0.0166 Validation\n",
      "Epoch 48, CIFAR-10 Batch 4:  Accuracy: 0.609000, Loss:     0.0365 Validation\n",
      "Epoch 48, CIFAR-10 Batch 5:  Accuracy: 0.607600, Loss:     0.0402 Validation\n",
      "Epoch 49, CIFAR-10 Batch 1:  Accuracy: 0.604000, Loss:     0.1209 Validation\n",
      "Epoch 49, CIFAR-10 Batch 2:  Accuracy: 0.599800, Loss:     0.0433 Validation\n",
      "Epoch 49, CIFAR-10 Batch 3:  Accuracy: 0.606000, Loss:     0.0268 Validation\n",
      "Epoch 49, CIFAR-10 Batch 4:  Accuracy: 0.599000, Loss:     0.0332 Validation\n",
      "Epoch 49, CIFAR-10 Batch 5:  Accuracy: 0.606400, Loss:     0.0189 Validation\n",
      "Epoch 50, CIFAR-10 Batch 1:  Accuracy: 0.603600, Loss:     0.0963 Validation\n",
      "Epoch 50, CIFAR-10 Batch 2:  Accuracy: 0.607400, Loss:     0.0175 Validation\n",
      "Epoch 50, CIFAR-10 Batch 3:  Accuracy: 0.606000, Loss:     0.0208 Validation\n",
      "Epoch 50, CIFAR-10 Batch 4:  Accuracy: 0.609000, Loss:     0.0426 Validation\n",
      "Epoch 50, CIFAR-10 Batch 5:  Accuracy: 0.603600, Loss:     0.0412 Validation\n",
      "Epoch 51, CIFAR-10 Batch 1:  Accuracy: 0.604400, Loss:     0.0941 Validation\n",
      "Epoch 51, CIFAR-10 Batch 2:  Accuracy: 0.601000, Loss:     0.0179 Validation\n",
      "Epoch 51, CIFAR-10 Batch 3:  Accuracy: 0.601000, Loss:     0.0324 Validation\n",
      "Epoch 51, CIFAR-10 Batch 4:  Accuracy: 0.610600, Loss:     0.0359 Validation\n",
      "Epoch 51, CIFAR-10 Batch 5:  Accuracy: 0.605600, Loss:     0.0188 Validation\n",
      "Epoch 52, CIFAR-10 Batch 1:  Accuracy: 0.603800, Loss:     0.1083 Validation\n",
      "Epoch 52, CIFAR-10 Batch 2:  Accuracy: 0.598600, Loss:     0.0192 Validation\n",
      "Epoch 52, CIFAR-10 Batch 3:  Accuracy: 0.607600, Loss:     0.0170 Validation\n",
      "Epoch 52, CIFAR-10 Batch 4:  Accuracy: 0.599200, Loss:     0.0538 Validation\n",
      "Epoch 52, CIFAR-10 Batch 5:  Accuracy: 0.611400, Loss:     0.0230 Validation\n",
      "Epoch 53, CIFAR-10 Batch 1:  Accuracy: 0.585400, Loss:     0.1011 Validation\n",
      "Epoch 53, CIFAR-10 Batch 2:  Accuracy: 0.599600, Loss:     0.0207 Validation\n",
      "Epoch 53, CIFAR-10 Batch 3:  Accuracy: 0.612000, Loss:     0.0156 Validation\n",
      "Epoch 53, CIFAR-10 Batch 4:  Accuracy: 0.613400, Loss:     0.0205 Validation\n",
      "Epoch 53, CIFAR-10 Batch 5:  Accuracy: 0.608000, Loss:     0.0230 Validation\n",
      "Epoch 54, CIFAR-10 Batch 1:  Accuracy: 0.605600, Loss:     0.0718 Validation\n",
      "Epoch 54, CIFAR-10 Batch 2:  Accuracy: 0.599600, Loss:     0.0154 Validation\n",
      "Epoch 54, CIFAR-10 Batch 3:  Accuracy: 0.605600, Loss:     0.0143 Validation\n",
      "Epoch 54, CIFAR-10 Batch 4:  Accuracy: 0.596200, Loss:     0.0336 Validation\n",
      "Epoch 54, CIFAR-10 Batch 5:  Accuracy: 0.609000, Loss:     0.0201 Validation\n",
      "Epoch 55, CIFAR-10 Batch 1:  Accuracy: 0.601000, Loss:     0.1027 Validation\n",
      "Epoch 55, CIFAR-10 Batch 2:  Accuracy: 0.592000, Loss:     0.0224 Validation\n",
      "Epoch 55, CIFAR-10 Batch 3:  Accuracy: 0.620000, Loss:     0.0254 Validation\n",
      "Epoch 55, CIFAR-10 Batch 4:  Accuracy: 0.594600, Loss:     0.0352 Validation\n",
      "Epoch 55, CIFAR-10 Batch 5:  Accuracy: 0.617800, Loss:     0.0242 Validation\n",
      "Epoch 56, CIFAR-10 Batch 1:  Accuracy: 0.604600, Loss:     0.1135 Validation\n",
      "Epoch 56, CIFAR-10 Batch 2:  Accuracy: 0.600200, Loss:     0.0270 Validation\n",
      "Epoch 56, CIFAR-10 Batch 3:  Accuracy: 0.605000, Loss:     0.0292 Validation\n",
      "Epoch 56, CIFAR-10 Batch 4:  Accuracy: 0.598400, Loss:     0.0430 Validation\n",
      "Epoch 56, CIFAR-10 Batch 5:  Accuracy: 0.610600, Loss:     0.0208 Validation\n",
      "Epoch 57, CIFAR-10 Batch 1:  Accuracy: 0.614200, Loss:     0.0975 Validation\n",
      "Epoch 57, CIFAR-10 Batch 2:  Accuracy: 0.610400, Loss:     0.0200 Validation\n",
      "Epoch 57, CIFAR-10 Batch 3:  Accuracy: 0.616000, Loss:     0.0207 Validation\n",
      "Epoch 57, CIFAR-10 Batch 4:  Accuracy: 0.576400, Loss:     0.0368 Validation\n",
      "Epoch 57, CIFAR-10 Batch 5:  Accuracy: 0.616400, Loss:     0.0222 Validation\n",
      "Epoch 58, CIFAR-10 Batch 1:  Accuracy: 0.609600, Loss:     0.0388 Validation\n",
      "Epoch 58, CIFAR-10 Batch 2:  Accuracy: 0.613000, Loss:     0.0232 Validation\n",
      "Epoch 58, CIFAR-10 Batch 3:  Accuracy: 0.609400, Loss:     0.0953 Validation\n",
      "Epoch 58, CIFAR-10 Batch 4:  Accuracy: 0.602400, Loss:     0.0207 Validation\n",
      "Epoch 58, CIFAR-10 Batch 5:  Accuracy: 0.608000, Loss:     0.0169 Validation\n",
      "Epoch 59, CIFAR-10 Batch 1:  Accuracy: 0.616800, Loss:     0.0306 Validation\n",
      "Epoch 59, CIFAR-10 Batch 2:  Accuracy: 0.608000, Loss:     0.0343 Validation\n",
      "Epoch 59, CIFAR-10 Batch 3:  Accuracy: 0.591600, Loss:     0.0363 Validation\n",
      "Epoch 59, CIFAR-10 Batch 4:  Accuracy: 0.594000, Loss:     0.0539 Validation\n",
      "Epoch 59, CIFAR-10 Batch 5:  Accuracy: 0.608600, Loss:     0.0148 Validation\n",
      "Epoch 60, CIFAR-10 Batch 1:  Accuracy: 0.613200, Loss:     0.0376 Validation\n",
      "Epoch 60, CIFAR-10 Batch 2:  Accuracy: 0.615000, Loss:     0.0149 Validation\n",
      "Epoch 60, CIFAR-10 Batch 3:  Accuracy: 0.604400, Loss:     0.0244 Validation\n",
      "Epoch 60, CIFAR-10 Batch 4:  Accuracy: 0.600400, Loss:     0.0366 Validation\n",
      "Epoch 60, CIFAR-10 Batch 5:  Accuracy: 0.614000, Loss:     0.0091 Validation\n"
     ]
    }
   ],
   "source": [
    "\"\"\"\n",
    "DON'T MODIFY ANYTHING IN THIS CELL\n",
    "\"\"\"\n",
    "save_model_path = './image_classification'\n",
    "\n",
    "print('Training...')\n",
    "with tf.Session() as sess:\n",
    "    # Initializing the variables\n",
    "    sess.run(tf.global_variables_initializer())\n",
    "    \n",
    "    # Training cycle\n",
    "    for epoch in range(epochs):\n",
    "        # Loop over all batches\n",
    "        n_batches = 5\n",
    "        for batch_i in range(1, n_batches + 1):\n",
    "            for batch_features, batch_labels in helper.load_preprocess_training_batch(batch_i, batch_size):\n",
    "                train_neural_network(sess, optimizer, keep_probability, batch_features, batch_labels)\n",
    "            print('Epoch {:>2}, CIFAR-10 Batch {}:  '.format(epoch + 1, batch_i), end='')\n",
    "            print_stats(sess, batch_features, batch_labels, cost, accuracy)\n",
    "            \n",
    "    # Save Model\n",
    "    saver = tf.train.Saver()\n",
    "    save_path = saver.save(sess, save_model_path)"
   ]
  },
  {
   "cell_type": "markdown",
   "metadata": {
    "deletable": true,
    "editable": true
   },
   "source": [
    "# Checkpoint\n",
    "The model has been saved to disk.\n",
    "## Test Model\n",
    "Test your model against the test dataset.  This will be your final accuracy. You should have an accuracy greater than 50%. If you don't, keep tweaking the model architecture and parameters."
   ]
  },
  {
   "cell_type": "code",
   "execution_count": 44,
   "metadata": {
    "collapsed": false,
    "deletable": true,
    "editable": true
   },
   "outputs": [
    {
     "name": "stdout",
     "output_type": "stream",
     "text": [
      "Testing Accuracy: 0.60205078125\n",
      "\n"
     ]
    },
    {
     "data": {
      "image/png": "[encoded data removed]",
      "text/plain": [
       "<matplotlib.figure.Figure at 0x7f92f696eba8>"
      ]
     },
     "metadata": {
      "image/png": {
       "height": 319,
       "width": 355
      }
     },
     "output_type": "display_data"
    }
   ],
   "source": [
    "\"\"\"\n",
    "DON'T MODIFY ANYTHING IN THIS CELL\n",
    "\"\"\"\n",
    "%matplotlib inline\n",
    "%config InlineBackend.figure_format = 'retina'\n",
    "\n",
    "import tensorflow as tf\n",
    "import pickle\n",
    "import helper\n",
    "import random\n",
    "\n",
    "# Set batch size if not already set\n",
    "try:\n",
    "    if batch_size:\n",
    "        pass\n",
    "except NameError:\n",
    "    batch_size = 64\n",
    "\n",
    "save_model_path = './image_classification'\n",
    "n_samples = 4\n",
    "top_n_predictions = 3\n",
    "\n",
    "def test_model():\n",
    "    \"\"\"\n",
    "    Test the saved model against the test dataset\n",
    "    \"\"\"\n",
    "\n",
    "    test_features, test_labels = pickle.load(open('preprocess_training.p', mode='rb'))\n",
    "    loaded_graph = tf.Graph()\n",
    "\n",
    "    with tf.Session(graph=loaded_graph) as sess:\n",
    "        # Load model\n",
    "        loader = tf.train.import_meta_graph(save_model_path + '.meta')\n",
    "        loader.restore(sess, save_model_path)\n",
    "\n",
    "        # Get Tensors from loaded model\n",
    "        loaded_x = loaded_graph.get_tensor_by_name('x:0')\n",
    "        loaded_y = loaded_graph.get_tensor_by_name('y:0')\n",
    "        loaded_keep_prob = loaded_graph.get_tensor_by_name('keep_prob:0')\n",
    "        loaded_logits = loaded_graph.get_tensor_by_name('logits:0')\n",
    "        loaded_acc = loaded_graph.get_tensor_by_name('accuracy:0')\n",
    "        \n",
    "        # Get accuracy in batches for memory limitations\n",
    "        test_batch_acc_total = 0\n",
    "        test_batch_count = 0\n",
    "        \n",
    "        for train_feature_batch, train_label_batch in helper.batch_features_labels(test_features, test_labels, batch_size):\n",
    "            test_batch_acc_total += sess.run(\n",
    "                loaded_acc,\n",
    "                feed_dict={loaded_x: train_feature_batch, loaded_y: train_label_batch, loaded_keep_prob: 1.0})\n",
    "            test_batch_count += 1\n",
    "\n",
    "        print('Testing Accuracy: {}\\n'.format(test_batch_acc_total/test_batch_count))\n",
    "\n",
    "        # Print Random Samples\n",
    "        random_test_features, random_test_labels = tuple(zip(*random.sample(list(zip(test_features, test_labels)), n_samples)))\n",
    "        random_test_predictions = sess.run(\n",
    "            tf.nn.top_k(tf.nn.softmax(loaded_logits), top_n_predictions),\n",
    "            feed_dict={loaded_x: random_test_features, loaded_y: random_test_labels, loaded_keep_prob: 1.0})\n",
    "        helper.display_image_predictions(random_test_features, random_test_labels, random_test_predictions)\n",
    "\n",
    "\n",
    "test_model()"
   ]
  },
  {
   "cell_type": "markdown",
   "metadata": {
    "deletable": true,
    "editable": true
   },
   "source": [
    "## Why 50-70% Accuracy?\n",
    "You might be wondering why you can't get an accuracy any higher. First things first, 50% isn't bad for a simple CNN.  Pure guessing would get you 10% accuracy. However, you might notice people are getting scores [well above 70%](http://rodrigob.github.io/are_we_there_yet/build/classification_datasets_results.html#43494641522d3130).  That's because we haven't taught you all there is to know about neural networks. We still need to cover a few more techniques.\n",
    "## Submitting This Project\n",
    "When submitting this project, make sure to run all the cells before saving the notebook.  Save the notebook file as \"dlnd_image_classification.ipynb\" and save it as a HTML file under \"File\" -> \"Download as\".  Include the \"helper.py\" and \"problem_unittests.py\" files in your submission."
   ]
  }
 ],
 "metadata": {
  "kernelspec": {
   "display_name": "Python 3",
   "language": "python",
   "name": "python3"
  },
  "language_info": {
   "codemirror_mode": {
    "name": "ipython",
    "version": 3
   },
   "file_extension": ".py",
   "mimetype": "text/x-python",
   "name": "python",
   "nbconvert_exporter": "python",
   "pygments_lexer": "ipython3",
   "version": "3.5.2"
  },
  "widgets": {
   "state": {},
   "version": "1.1.2"
  }
 },
 "nbformat": 4,
 "nbformat_minor": 0
}
